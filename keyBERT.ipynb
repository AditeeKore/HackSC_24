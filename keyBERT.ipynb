{
 "cells": [
  {
   "cell_type": "code",
   "execution_count": 1,
   "metadata": {},
   "outputs": [
    {
     "name": "stderr",
     "output_type": "stream",
     "text": [
      "c:\\Users\\suman\\AppData\\Local\\Programs\\Python\\Python311\\Lib\\site-packages\\sentence_transformers\\cross_encoder\\CrossEncoder.py:13: TqdmWarning: IProgress not found. Please update jupyter and ipywidgets. See https://ipywidgets.readthedocs.io/en/stable/user_install.html\n",
      "  from tqdm.autonotebook import tqdm, trange\n"
     ]
    },
    {
     "name": "stdout",
     "output_type": "stream",
     "text": [
      "WARNING:tensorflow:From c:\\Users\\suman\\AppData\\Local\\Programs\\Python\\Python311\\Lib\\site-packages\\tf_keras\\src\\losses.py:2976: The name tf.losses.sparse_softmax_cross_entropy is deprecated. Please use tf.compat.v1.losses.sparse_softmax_cross_entropy instead.\n",
      "\n"
     ]
    }
   ],
   "source": [
    "from keybert import KeyBERT"
   ]
  },
  {
   "cell_type": "code",
   "execution_count": 14,
   "metadata": {},
   "outputs": [],
   "source": [
    "doc = \"\"\"\n",
    "         Supervised learning is the machine learning task of learning a function that\n",
    "         maps an input to an output based on example input-output pairs. It infers a\n",
    "         function from labeled training data consisting of a set of training examples.\n",
    "         In supervised learning, each example is a pair consisting of an input object\n",
    "         (typically a vector) and a desired output value (also called the supervisory signal).\n",
    "         A supervised learning algorithm analyzes the training data and produces an inferred function,\n",
    "         which can be used for mapping new examples. An optimal scenario will allow for the\n",
    "         algorithm to correctly determine the class labels for unseen instances. This requires\n",
    "         the learning algorithm to generalize from the training data to unseen situations in a\n",
    "         'reasonable' way (see inductive bias).\n",
    "      \"\"\"\n",
    "kw_model = KeyBERT()\n",
    "stop_words = [\"i\", \"me\", \"my\", \"myself\", \"we\", \"our\", \"ours\", \"ourselves\", \"you\", \"your\", \"yours\", \"yourself\", \"yourselves\", \"he\", \"him\", \"his\", \"himself\", \"she\", \"her\", \"hers\", \"herself\", \"it\", \"its\", \"itself\", \"they\", \"them\", \"their\", \"theirs\", \"themselves\", \"what\", \"which\", \"who\", \"whom\", \"this\", \"that\", \"these\", \"those\", \"am\", \"is\", \"are\", \"was\", \"were\", \"be\", \"been\", \"being\", \"have\", \"has\", \"had\", \"having\", \"do\", \"does\", \"did\", \"doing\", \"a\", \"an\", \"the\", \"and\", \"but\", \"if\", \"or\", \"because\", \"as\", \"until\", \"while\", \"of\", \"at\", \"by\", \"for\", \"with\", \"about\", \"against\", \"between\", \"into\", \"through\", \"during\", \"before\", \"after\", \"above\", \"below\", \"to\", \"from\", \"up\", \"down\", \"in\", \"out\", \"on\", \"off\", \"over\", \"under\", \"again\", \"further\", \"then\", \"once\", \"here\", \"there\", \"when\", \"where\", \"why\", \"how\", \"all\", \"any\", \"both\", \"each\", \"few\", \"more\", \"most\", \"other\", \"some\", \"such\", \"no\", \"nor\", \"not\", \"only\", \"own\", \"same\", \"so\", \"than\", \"too\", \"very\", \"s\", \"t\", \"can\", \"will\", \"just\", \"don\", \"should\", \"now\"]\n",
    "#keywords = kw_model.extract_keywords(doc, keyphrase_ngram_range=(1, 1), stop_words=stop_words)\n",
    "keywords = kw_model.extract_keywords(doc, keyphrase_ngram_range=(1, 1), stop_words=stop_words, use_mmr=True, diversity=0.5)"
   ]
  },
  {
   "cell_type": "code",
   "execution_count": 15,
   "metadata": {},
   "outputs": [
    {
     "name": "stdout",
     "output_type": "stream",
     "text": [
      "[('supervised', 0.6676), ('training', 0.4134), ('function', 0.2658), ('bias', 0.2644), ('inductive', 0.2577)]\n"
     ]
    }
   ],
   "source": [
    "print(keywords)"
   ]
  },
  {
   "cell_type": "code",
   "execution_count": 48,
   "metadata": {},
   "outputs": [
    {
     "data": {
      "text/html": [
       "<div>\n",
       "<style scoped>\n",
       "    .dataframe tbody tr th:only-of-type {\n",
       "        vertical-align: middle;\n",
       "    }\n",
       "\n",
       "    .dataframe tbody tr th {\n",
       "        vertical-align: top;\n",
       "    }\n",
       "\n",
       "    .dataframe thead th {\n",
       "        text-align: right;\n",
       "    }\n",
       "</style>\n",
       "<table border=\"1\" class=\"dataframe\">\n",
       "  <thead>\n",
       "    <tr style=\"text-align: right;\">\n",
       "      <th></th>\n",
       "      <th>filename</th>\n",
       "      <th>txt_lines</th>\n",
       "      <th>key_lines</th>\n",
       "    </tr>\n",
       "  </thead>\n",
       "  <tbody>\n",
       "    <tr>\n",
       "      <th>0</th>\n",
       "      <td>art_and_culture-20893614.txt</td>\n",
       "      <td>Canadian pop star Michael Buble kisses his bri...</td>\n",
       "      <td>[married Argentine, his Grammy, ceremony, kiss...</td>\n",
       "    </tr>\n",
       "    <tr>\n",
       "      <th>1</th>\n",
       "      <td>art_and_culture-20900470.txt</td>\n",
       "      <td>Daniel Craig will do Stieg Larsson justice, fi...</td>\n",
       "      <td>[role, American, board, Staermose, Daniel, ver...</td>\n",
       "    </tr>\n",
       "    <tr>\n",
       "      <th>2</th>\n",
       "      <td>art_and_culture-20902975.txt</td>\n",
       "      <td>Will Kutcher and Bieber make as woeful a doubl...</td>\n",
       "      <td>[production, coming, affinity, primarily, doub...</td>\n",
       "    </tr>\n",
       "    <tr>\n",
       "      <th>3</th>\n",
       "      <td>art_and_culture-20904497.txt</td>\n",
       "      <td>April 1, 2011 - \"\"Bones\"\" actress Emily Descha...</td>\n",
       "      <td>[confirmed, year, pregnant, September, TV, emb...</td>\n",
       "    </tr>\n",
       "    <tr>\n",
       "      <th>4</th>\n",
       "      <td>art_and_culture-20906308.txt</td>\n",
       "      <td>If I wasn't already totally pumped for Tim Bur...</td>\n",
       "      <td>[would play Carolyn, join cast, 039Dark Shadow...</td>\n",
       "    </tr>\n",
       "    <tr>\n",
       "      <th>...</th>\n",
       "      <td>...</td>\n",
       "      <td>...</td>\n",
       "      <td>...</td>\n",
       "    </tr>\n",
       "    <tr>\n",
       "      <th>445</th>\n",
       "      <td>tech-20950200.txt</td>\n",
       "      <td>Imagine you are a pro-democracy protester on t...</td>\n",
       "      <td>[role, blackouts, wasnt, bloggers, names, acti...</td>\n",
       "    </tr>\n",
       "    <tr>\n",
       "      <th>446</th>\n",
       "      <td>tech-20952351.txt</td>\n",
       "      <td>It had to happen. When Google showed off a new...</td>\n",
       "      <td>[cooked up, make Gmail Motion work, Kinect cam...</td>\n",
       "    </tr>\n",
       "    <tr>\n",
       "      <th>447</th>\n",
       "      <td>tech-20953586.txt</td>\n",
       "      <td>Franco poses with 826 student Angelita Bowden....</td>\n",
       "      <td>[need, explained, black, organizers screened, ...</td>\n",
       "    </tr>\n",
       "    <tr>\n",
       "      <th>448</th>\n",
       "      <td>tech-20954339.txt</td>\n",
       "      <td>Microsoft has made its first-ever formal compl...</td>\n",
       "      <td>[understand, benefit, compete, search, forward...</td>\n",
       "    </tr>\n",
       "    <tr>\n",
       "      <th>449</th>\n",
       "      <td>tech-20955348.txt</td>\n",
       "      <td>In the shadow of San Francisco's stately City ...</td>\n",
       "      <td>[incentive, companies, fracas, protested, rese...</td>\n",
       "    </tr>\n",
       "  </tbody>\n",
       "</table>\n",
       "<p>450 rows × 3 columns</p>\n",
       "</div>"
      ],
      "text/plain": [
       "                         filename  \\\n",
       "0    art_and_culture-20893614.txt   \n",
       "1    art_and_culture-20900470.txt   \n",
       "2    art_and_culture-20902975.txt   \n",
       "3    art_and_culture-20904497.txt   \n",
       "4    art_and_culture-20906308.txt   \n",
       "..                            ...   \n",
       "445             tech-20950200.txt   \n",
       "446             tech-20952351.txt   \n",
       "447             tech-20953586.txt   \n",
       "448             tech-20954339.txt   \n",
       "449             tech-20955348.txt   \n",
       "\n",
       "                                             txt_lines  \\\n",
       "0    Canadian pop star Michael Buble kisses his bri...   \n",
       "1    Daniel Craig will do Stieg Larsson justice, fi...   \n",
       "2    Will Kutcher and Bieber make as woeful a doubl...   \n",
       "3    April 1, 2011 - \"\"Bones\"\" actress Emily Descha...   \n",
       "4    If I wasn't already totally pumped for Tim Bur...   \n",
       "..                                                 ...   \n",
       "445  Imagine you are a pro-democracy protester on t...   \n",
       "446  It had to happen. When Google showed off a new...   \n",
       "447  Franco poses with 826 student Angelita Bowden....   \n",
       "448  Microsoft has made its first-ever formal compl...   \n",
       "449  In the shadow of San Francisco's stately City ...   \n",
       "\n",
       "                                             key_lines  \n",
       "0    [married Argentine, his Grammy, ceremony, kiss...  \n",
       "1    [role, American, board, Staermose, Daniel, ver...  \n",
       "2    [production, coming, affinity, primarily, doub...  \n",
       "3    [confirmed, year, pregnant, September, TV, emb...  \n",
       "4    [would play Carolyn, join cast, 039Dark Shadow...  \n",
       "..                                                 ...  \n",
       "445  [role, blackouts, wasnt, bloggers, names, acti...  \n",
       "446  [cooked up, make Gmail Motion work, Kinect cam...  \n",
       "447  [need, explained, black, organizers screened, ...  \n",
       "448  [understand, benefit, compete, search, forward...  \n",
       "449  [incentive, companies, fracas, protested, rese...  \n",
       "\n",
       "[450 rows x 3 columns]"
      ]
     },
     "execution_count": 48,
     "metadata": {},
     "output_type": "execute_result"
    }
   ],
   "source": [
    "# training it on a dataset found on github: https://github.com/SDuari/Keyword-Extraction-Datasets/tree/master\n",
    "# Marujo2012 are a list of online news articles\n",
    "\n",
    "import os\n",
    "import pandas as pd\n",
    "\n",
    "# Specify the folder containing the .txt and .key files\n",
    "folder_path = 'Training'\n",
    "\n",
    "# Initialize an empty list to store data from all files\n",
    "all_data = []\n",
    "\n",
    "# Iterate over each file in the folder to process .txt and corresponding .key files\n",
    "for filename in os.listdir(folder_path):\n",
    "    if filename.endswith('.txt'):\n",
    "        txt_file_path = os.path.join(folder_path, filename)\n",
    "        \n",
    "        # Corresponding .key file\n",
    "        key_file_path = os.path.join(folder_path, filename.replace('.txt', '.key'))\n",
    "        \n",
    "        # Read only the second line from the .txt file\n",
    "        with open(txt_file_path, 'r', encoding='utf-8') as txt_file:\n",
    "            txt_line = ''\n",
    "            for i, line in enumerate(txt_file):\n",
    "                if i == 1:  # 0-based index; second line is index 1\n",
    "                    txt_line = line.strip()\n",
    "                    break\n",
    "\n",
    "        # Read all lines from the .key file and store as a list\n",
    "        if os.path.exists(key_file_path):\n",
    "            with open(key_file_path, 'r', encoding='utf-8') as key_file:\n",
    "                key_lines = [line.strip() for line in key_file.readlines()]\n",
    "        else:\n",
    "            key_lines = []  # Empty list if no .key file exists\n",
    "        \n",
    "        # Add the file's data as a row in the list\n",
    "        all_data.append({\n",
    "            'filename': filename,\n",
    "            'txt_lines': txt_line,  # List of lines from the .txt file\n",
    "            'key_lines': key_lines   # List of lines from the .key file\n",
    "        })\n",
    "\n",
    "# Convert list to a DataFrame\n",
    "df = pd.DataFrame(all_data)\n",
    "\n",
    "# Display the DataFrame\n",
    "df"
   ]
  },
  {
   "cell_type": "markdown",
   "metadata": {},
   "source": [
    "#check a specific file\n",
    "specific_filename = 'art_and_culture-20906975.txt'\n",
    "\n",
    "# Filter the DataFrame to get the specific file's data\n",
    "file_data = df[df['filename'] == specific_filename]\n",
    "\n",
    "file_data"
   ]
  },
  {
   "cell_type": "code",
   "execution_count": 55,
   "metadata": {},
   "outputs": [],
   "source": [
    "'''\n",
    "\n",
    "The kw_model.extract_keywords method is part of the KeyBERT library, which is commonly used for extracting keywords from text. Here’s an overview of the parameters you can pass to extract_keywords:\n",
    "\n",
    "python\n",
    "Copy code\n",
    "kw_model.extract_keywords(\n",
    "    docs,               # Input text(s) from which to extract keywords\n",
    "    keyphrase_ngram_range=(1, 1),   # Tuple indicating min and max n-gram lengths for keywords\n",
    "    stop_words=None,    # Language for stop words (e.g., \"english\") or custom stop words list\n",
    "    top_n=5,            # Number of keywords/phrases to return\n",
    "    use_maxsum=False,   # Whether to use Max Sum Similarity for keyword selection\n",
    "    use_mmr=False,      # Whether to use Maximal Marginal Relevance for keyword selection\n",
    "    diversity=0.5,      # Diversity parameter for MMR (only if use_mmr=True)\n",
    "    nr_candidates=20,   # Number of candidates considered for Max Sum Similarity (only if use_maxsum=True)\n",
    "    vectorizer=None,    # Custom vectorizer (e.g., TfidfVectorizer) if you wish to override the default\n",
    "    highlight=False,    # Whether to highlight keywords in the original text (only in Jupyter Notebooks)\n",
    ")\n",
    "\n",
    "'''\n",
    "outputs = []\n",
    "\n",
    "for val in df['txt_lines']:\n",
    "    keywords = kw_model.extract_keywords(val, keyphrase_ngram_range=(1, 1), stop_words=stop_words, top_n=10, \n",
    "                                         use_mmr=True, diversity=0.2)\n",
    "    outputs.append(keywords)"
   ]
  },
  {
   "cell_type": "code",
   "execution_count": 56,
   "metadata": {},
   "outputs": [
    {
     "data": {
      "text/plain": [
       "[('obesity', 0.4363),\n",
       " ('oestrogen', 0.3312),\n",
       " ('waistline', 0.2984),\n",
       " ('blindness', 0.2955),\n",
       " ('macular', 0.2953),\n",
       " ('diabetes', 0.2808),\n",
       " ('inflammation', 0.2485),\n",
       " ('risk', 0.2412),\n",
       " ('aged', 0.2322),\n",
       " ('women', 0.2123)]"
      ]
     },
     "execution_count": 56,
     "metadata": {},
     "output_type": "execute_result"
    }
   ],
   "source": [
    "outputs[321]"
   ]
  },
  {
   "cell_type": "code",
   "execution_count": null,
   "metadata": {},
   "outputs": [],
   "source": []
  }
 ],
 "metadata": {
  "kernelspec": {
   "display_name": "Python 3",
   "language": "python",
   "name": "python3"
  },
  "language_info": {
   "codemirror_mode": {
    "name": "ipython",
    "version": 3
   },
   "file_extension": ".py",
   "mimetype": "text/x-python",
   "name": "python",
   "nbconvert_exporter": "python",
   "pygments_lexer": "ipython3",
   "version": "3.11.0"
  }
 },
 "nbformat": 4,
 "nbformat_minor": 2
}
